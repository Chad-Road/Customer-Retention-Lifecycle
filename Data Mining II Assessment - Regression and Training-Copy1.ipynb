{
 "cells": [
  {
   "cell_type": "code",
   "execution_count": 255,
   "metadata": {},
   "outputs": [],
   "source": [
    "# All import statements\n",
    "import pandas as pd\n",
    "from pandas import DataFrame\n",
    "from pandas.plotting import scatter_matrix\n",
    "import numpy as np\n",
    "from sklearn import tree\n",
    "from sklearn.tree import DecisionTreeRegressor\n",
    "from sklearn.tree import DecisionTreeClassifier\n",
    "from sklearn.model_selection import train_test_split\n",
    "from sklearn.metrics import mean_absolute_error\n",
    "from sklearn.tree import DecisionTreeRegressor\n",
    "from sklearn.impute import SimpleImputer \n",
    "from sklearn.ensemble import RandomForestRegressor\n",
    "from sklearn.metrics import mean_absolute_error\n",
    "from sklearn.metrics import accuracy_score \n",
    "from sklearn.metrics import classification_report\n",
    "from sklearn.pipeline import Pipeline\n",
    "from sklearn.model_selection import cross_val_score\n",
    "from sklearn.preprocessing import LabelEncoder\n",
    "from sklearn.preprocessing import OneHotEncoder\n",
    "from sklearn.feature_selection import RFE\n",
    "from sklearn.linear_model import LogisticRegression\n",
    "from sklearn.linear_model import LinearRegression\n",
    "from sklearn.metrics import confusion_matrix\n",
    "from sklearn.metrics import plot_confusion_matrix\n",
    "from sklearn.metrics import r2_score\n",
    "from sklearn import svm\n",
    "from scipy import stats\n",
    "import scipy.stats as sta\n",
    "from scipy.stats import norm\n",
    "from scipy.special import expit\n",
    "import matplotlib.pyplot as plt\n",
    "import statsmodels.api as sm\n",
    "import seaborn as sns\n",
    "sns.set()\n"
   ]
  },
  {
   "cell_type": "code",
   "execution_count": 219,
   "metadata": {},
   "outputs": [],
   "source": [
    "# Filepath and read\n",
    "churn_data_path = 'C:/Users/Chad/Downloads/TelcoCustomerChurnCopy.csv'\n",
    "churn_data = pd.read_csv(churn_data_path)\n"
   ]
  },
  {
   "cell_type": "code",
   "execution_count": 220,
   "metadata": {},
   "outputs": [
    {
     "data": {
      "text/html": [
       "<div>\n",
       "<style scoped>\n",
       "    .dataframe tbody tr th:only-of-type {\n",
       "        vertical-align: middle;\n",
       "    }\n",
       "\n",
       "    .dataframe tbody tr th {\n",
       "        vertical-align: top;\n",
       "    }\n",
       "\n",
       "    .dataframe thead th {\n",
       "        text-align: right;\n",
       "    }\n",
       "</style>\n",
       "<table border=\"1\" class=\"dataframe\">\n",
       "  <thead>\n",
       "    <tr style=\"text-align: right;\">\n",
       "      <th></th>\n",
       "      <th>customerID</th>\n",
       "      <th>OneMale</th>\n",
       "      <th>YesSenior</th>\n",
       "      <th>YesPartner</th>\n",
       "      <th>YesDependents</th>\n",
       "      <th>Tenure</th>\n",
       "      <th>YesPhoneService</th>\n",
       "      <th>YesInternetService</th>\n",
       "      <th>YesDSL</th>\n",
       "      <th>YesFiberOptic</th>\n",
       "      <th>...</th>\n",
       "      <th>ContractOneYear</th>\n",
       "      <th>ContractTwoYear</th>\n",
       "      <th>YesPaperlessBilling</th>\n",
       "      <th>YesElectronicCheck</th>\n",
       "      <th>YesMailedCheck</th>\n",
       "      <th>YesBankTransfer</th>\n",
       "      <th>YesCreditCard</th>\n",
       "      <th>MonthlyCharges</th>\n",
       "      <th>TotalCharges</th>\n",
       "      <th>YesChurn</th>\n",
       "    </tr>\n",
       "  </thead>\n",
       "  <tbody>\n",
       "    <tr>\n",
       "      <th>0</th>\n",
       "      <td>7590-VHVEG</td>\n",
       "      <td>0.0</td>\n",
       "      <td>0.0</td>\n",
       "      <td>1.0</td>\n",
       "      <td>0.0</td>\n",
       "      <td>1.0</td>\n",
       "      <td>0.0</td>\n",
       "      <td>1.0</td>\n",
       "      <td>1.0</td>\n",
       "      <td>0.0</td>\n",
       "      <td>...</td>\n",
       "      <td>0.0</td>\n",
       "      <td>0.0</td>\n",
       "      <td>1.0</td>\n",
       "      <td>1.0</td>\n",
       "      <td>0.0</td>\n",
       "      <td>0.0</td>\n",
       "      <td>0.0</td>\n",
       "      <td>29.85</td>\n",
       "      <td>29.85</td>\n",
       "      <td>0.0</td>\n",
       "    </tr>\n",
       "    <tr>\n",
       "      <th>1</th>\n",
       "      <td>5575-GNVDE</td>\n",
       "      <td>1.0</td>\n",
       "      <td>0.0</td>\n",
       "      <td>0.0</td>\n",
       "      <td>0.0</td>\n",
       "      <td>34.0</td>\n",
       "      <td>1.0</td>\n",
       "      <td>1.0</td>\n",
       "      <td>1.0</td>\n",
       "      <td>0.0</td>\n",
       "      <td>...</td>\n",
       "      <td>1.0</td>\n",
       "      <td>0.0</td>\n",
       "      <td>0.0</td>\n",
       "      <td>0.0</td>\n",
       "      <td>1.0</td>\n",
       "      <td>0.0</td>\n",
       "      <td>0.0</td>\n",
       "      <td>56.95</td>\n",
       "      <td>1889.50</td>\n",
       "      <td>0.0</td>\n",
       "    </tr>\n",
       "    <tr>\n",
       "      <th>2</th>\n",
       "      <td>3668-QPYBK</td>\n",
       "      <td>1.0</td>\n",
       "      <td>0.0</td>\n",
       "      <td>0.0</td>\n",
       "      <td>0.0</td>\n",
       "      <td>2.0</td>\n",
       "      <td>1.0</td>\n",
       "      <td>1.0</td>\n",
       "      <td>1.0</td>\n",
       "      <td>0.0</td>\n",
       "      <td>...</td>\n",
       "      <td>0.0</td>\n",
       "      <td>0.0</td>\n",
       "      <td>1.0</td>\n",
       "      <td>0.0</td>\n",
       "      <td>1.0</td>\n",
       "      <td>0.0</td>\n",
       "      <td>0.0</td>\n",
       "      <td>53.85</td>\n",
       "      <td>108.15</td>\n",
       "      <td>1.0</td>\n",
       "    </tr>\n",
       "    <tr>\n",
       "      <th>3</th>\n",
       "      <td>7795-CFOCW</td>\n",
       "      <td>1.0</td>\n",
       "      <td>0.0</td>\n",
       "      <td>0.0</td>\n",
       "      <td>0.0</td>\n",
       "      <td>45.0</td>\n",
       "      <td>0.0</td>\n",
       "      <td>1.0</td>\n",
       "      <td>1.0</td>\n",
       "      <td>0.0</td>\n",
       "      <td>...</td>\n",
       "      <td>1.0</td>\n",
       "      <td>0.0</td>\n",
       "      <td>0.0</td>\n",
       "      <td>0.0</td>\n",
       "      <td>0.0</td>\n",
       "      <td>1.0</td>\n",
       "      <td>0.0</td>\n",
       "      <td>42.30</td>\n",
       "      <td>1840.75</td>\n",
       "      <td>0.0</td>\n",
       "    </tr>\n",
       "    <tr>\n",
       "      <th>4</th>\n",
       "      <td>9237-HQITU</td>\n",
       "      <td>0.0</td>\n",
       "      <td>0.0</td>\n",
       "      <td>0.0</td>\n",
       "      <td>0.0</td>\n",
       "      <td>2.0</td>\n",
       "      <td>1.0</td>\n",
       "      <td>1.0</td>\n",
       "      <td>0.0</td>\n",
       "      <td>1.0</td>\n",
       "      <td>...</td>\n",
       "      <td>0.0</td>\n",
       "      <td>0.0</td>\n",
       "      <td>1.0</td>\n",
       "      <td>1.0</td>\n",
       "      <td>0.0</td>\n",
       "      <td>0.0</td>\n",
       "      <td>0.0</td>\n",
       "      <td>70.70</td>\n",
       "      <td>151.65</td>\n",
       "      <td>1.0</td>\n",
       "    </tr>\n",
       "    <tr>\n",
       "      <th>...</th>\n",
       "      <td>...</td>\n",
       "      <td>...</td>\n",
       "      <td>...</td>\n",
       "      <td>...</td>\n",
       "      <td>...</td>\n",
       "      <td>...</td>\n",
       "      <td>...</td>\n",
       "      <td>...</td>\n",
       "      <td>...</td>\n",
       "      <td>...</td>\n",
       "      <td>...</td>\n",
       "      <td>...</td>\n",
       "      <td>...</td>\n",
       "      <td>...</td>\n",
       "      <td>...</td>\n",
       "      <td>...</td>\n",
       "      <td>...</td>\n",
       "      <td>...</td>\n",
       "      <td>...</td>\n",
       "      <td>...</td>\n",
       "      <td>...</td>\n",
       "    </tr>\n",
       "    <tr>\n",
       "      <th>7038</th>\n",
       "      <td>6840-RESVB</td>\n",
       "      <td>1.0</td>\n",
       "      <td>0.0</td>\n",
       "      <td>1.0</td>\n",
       "      <td>1.0</td>\n",
       "      <td>24.0</td>\n",
       "      <td>1.0</td>\n",
       "      <td>1.0</td>\n",
       "      <td>1.0</td>\n",
       "      <td>0.0</td>\n",
       "      <td>...</td>\n",
       "      <td>1.0</td>\n",
       "      <td>0.0</td>\n",
       "      <td>1.0</td>\n",
       "      <td>0.0</td>\n",
       "      <td>1.0</td>\n",
       "      <td>0.0</td>\n",
       "      <td>0.0</td>\n",
       "      <td>84.80</td>\n",
       "      <td>1990.50</td>\n",
       "      <td>0.0</td>\n",
       "    </tr>\n",
       "    <tr>\n",
       "      <th>7039</th>\n",
       "      <td>2234-XADUH</td>\n",
       "      <td>0.0</td>\n",
       "      <td>0.0</td>\n",
       "      <td>1.0</td>\n",
       "      <td>1.0</td>\n",
       "      <td>72.0</td>\n",
       "      <td>1.0</td>\n",
       "      <td>1.0</td>\n",
       "      <td>0.0</td>\n",
       "      <td>1.0</td>\n",
       "      <td>...</td>\n",
       "      <td>1.0</td>\n",
       "      <td>0.0</td>\n",
       "      <td>1.0</td>\n",
       "      <td>0.0</td>\n",
       "      <td>0.0</td>\n",
       "      <td>0.0</td>\n",
       "      <td>1.0</td>\n",
       "      <td>103.20</td>\n",
       "      <td>7362.90</td>\n",
       "      <td>0.0</td>\n",
       "    </tr>\n",
       "    <tr>\n",
       "      <th>7040</th>\n",
       "      <td>4801-JZAZL</td>\n",
       "      <td>0.0</td>\n",
       "      <td>0.0</td>\n",
       "      <td>1.0</td>\n",
       "      <td>1.0</td>\n",
       "      <td>11.0</td>\n",
       "      <td>0.0</td>\n",
       "      <td>1.0</td>\n",
       "      <td>1.0</td>\n",
       "      <td>0.0</td>\n",
       "      <td>...</td>\n",
       "      <td>0.0</td>\n",
       "      <td>0.0</td>\n",
       "      <td>1.0</td>\n",
       "      <td>1.0</td>\n",
       "      <td>0.0</td>\n",
       "      <td>0.0</td>\n",
       "      <td>0.0</td>\n",
       "      <td>29.60</td>\n",
       "      <td>346.45</td>\n",
       "      <td>0.0</td>\n",
       "    </tr>\n",
       "    <tr>\n",
       "      <th>7041</th>\n",
       "      <td>8361-LTMKD</td>\n",
       "      <td>1.0</td>\n",
       "      <td>1.0</td>\n",
       "      <td>1.0</td>\n",
       "      <td>0.0</td>\n",
       "      <td>4.0</td>\n",
       "      <td>1.0</td>\n",
       "      <td>1.0</td>\n",
       "      <td>0.0</td>\n",
       "      <td>1.0</td>\n",
       "      <td>...</td>\n",
       "      <td>0.0</td>\n",
       "      <td>0.0</td>\n",
       "      <td>1.0</td>\n",
       "      <td>0.0</td>\n",
       "      <td>1.0</td>\n",
       "      <td>0.0</td>\n",
       "      <td>0.0</td>\n",
       "      <td>74.40</td>\n",
       "      <td>306.60</td>\n",
       "      <td>1.0</td>\n",
       "    </tr>\n",
       "    <tr>\n",
       "      <th>7042</th>\n",
       "      <td>3186-AJIEK</td>\n",
       "      <td>1.0</td>\n",
       "      <td>0.0</td>\n",
       "      <td>0.0</td>\n",
       "      <td>0.0</td>\n",
       "      <td>66.0</td>\n",
       "      <td>1.0</td>\n",
       "      <td>1.0</td>\n",
       "      <td>0.0</td>\n",
       "      <td>1.0</td>\n",
       "      <td>...</td>\n",
       "      <td>0.0</td>\n",
       "      <td>1.0</td>\n",
       "      <td>1.0</td>\n",
       "      <td>0.0</td>\n",
       "      <td>0.0</td>\n",
       "      <td>1.0</td>\n",
       "      <td>0.0</td>\n",
       "      <td>105.65</td>\n",
       "      <td>6844.50</td>\n",
       "      <td>0.0</td>\n",
       "    </tr>\n",
       "  </tbody>\n",
       "</table>\n",
       "<p>7043 rows × 28 columns</p>\n",
       "</div>"
      ],
      "text/plain": [
       "      customerID  OneMale  YesSenior  YesPartner  YesDependents  Tenure  \\\n",
       "0     7590-VHVEG      0.0        0.0         1.0            0.0     1.0   \n",
       "1     5575-GNVDE      1.0        0.0         0.0            0.0    34.0   \n",
       "2     3668-QPYBK      1.0        0.0         0.0            0.0     2.0   \n",
       "3     7795-CFOCW      1.0        0.0         0.0            0.0    45.0   \n",
       "4     9237-HQITU      0.0        0.0         0.0            0.0     2.0   \n",
       "...          ...      ...        ...         ...            ...     ...   \n",
       "7038  6840-RESVB      1.0        0.0         1.0            1.0    24.0   \n",
       "7039  2234-XADUH      0.0        0.0         1.0            1.0    72.0   \n",
       "7040  4801-JZAZL      0.0        0.0         1.0            1.0    11.0   \n",
       "7041  8361-LTMKD      1.0        1.0         1.0            0.0     4.0   \n",
       "7042  3186-AJIEK      1.0        0.0         0.0            0.0    66.0   \n",
       "\n",
       "      YesPhoneService  YesInternetService  YesDSL  YesFiberOptic  ...  \\\n",
       "0                 0.0                 1.0     1.0            0.0  ...   \n",
       "1                 1.0                 1.0     1.0            0.0  ...   \n",
       "2                 1.0                 1.0     1.0            0.0  ...   \n",
       "3                 0.0                 1.0     1.0            0.0  ...   \n",
       "4                 1.0                 1.0     0.0            1.0  ...   \n",
       "...               ...                 ...     ...            ...  ...   \n",
       "7038              1.0                 1.0     1.0            0.0  ...   \n",
       "7039              1.0                 1.0     0.0            1.0  ...   \n",
       "7040              0.0                 1.0     1.0            0.0  ...   \n",
       "7041              1.0                 1.0     0.0            1.0  ...   \n",
       "7042              1.0                 1.0     0.0            1.0  ...   \n",
       "\n",
       "      ContractOneYear  ContractTwoYear  YesPaperlessBilling  \\\n",
       "0                 0.0              0.0                  1.0   \n",
       "1                 1.0              0.0                  0.0   \n",
       "2                 0.0              0.0                  1.0   \n",
       "3                 1.0              0.0                  0.0   \n",
       "4                 0.0              0.0                  1.0   \n",
       "...               ...              ...                  ...   \n",
       "7038              1.0              0.0                  1.0   \n",
       "7039              1.0              0.0                  1.0   \n",
       "7040              0.0              0.0                  1.0   \n",
       "7041              0.0              0.0                  1.0   \n",
       "7042              0.0              1.0                  1.0   \n",
       "\n",
       "      YesElectronicCheck  YesMailedCheck  YesBankTransfer  YesCreditCard  \\\n",
       "0                    1.0             0.0              0.0            0.0   \n",
       "1                    0.0             1.0              0.0            0.0   \n",
       "2                    0.0             1.0              0.0            0.0   \n",
       "3                    0.0             0.0              1.0            0.0   \n",
       "4                    1.0             0.0              0.0            0.0   \n",
       "...                  ...             ...              ...            ...   \n",
       "7038                 0.0             1.0              0.0            0.0   \n",
       "7039                 0.0             0.0              0.0            1.0   \n",
       "7040                 1.0             0.0              0.0            0.0   \n",
       "7041                 0.0             1.0              0.0            0.0   \n",
       "7042                 0.0             0.0              1.0            0.0   \n",
       "\n",
       "      MonthlyCharges  TotalCharges  YesChurn  \n",
       "0              29.85         29.85       0.0  \n",
       "1              56.95       1889.50       0.0  \n",
       "2              53.85        108.15       1.0  \n",
       "3              42.30       1840.75       0.0  \n",
       "4              70.70        151.65       1.0  \n",
       "...              ...           ...       ...  \n",
       "7038           84.80       1990.50       0.0  \n",
       "7039          103.20       7362.90       0.0  \n",
       "7040           29.60        346.45       0.0  \n",
       "7041           74.40        306.60       1.0  \n",
       "7042          105.65       6844.50       0.0  \n",
       "\n",
       "[7043 rows x 28 columns]"
      ]
     },
     "execution_count": 220,
     "metadata": {},
     "output_type": "execute_result"
    }
   ],
   "source": [
    "# Check data\n",
    "churn_data\n"
   ]
  },
  {
   "cell_type": "code",
   "execution_count": 221,
   "metadata": {},
   "outputs": [
    {
     "data": {
      "text/plain": [
       "Index(['OneMale', 'YesSenior', 'YesPartner', 'YesDependents', 'Tenure',\n",
       "       'YesPhoneService', 'YesInternetService', 'YesDSL', 'YesFiberOptic',\n",
       "       'YesMultiLines', 'YesOnlineSecurity', 'YesOnlineBackup',\n",
       "       'YesDeviceProtection', 'YesTechSupport', 'YesStreamingTV',\n",
       "       'YesStreamingMovies', 'ContractMonthly', 'ContractOneYear',\n",
       "       'ContractTwoYear', 'YesPaperlessBilling', 'YesElectronicCheck',\n",
       "       'YesMailedCheck', 'YesBankTransfer', 'YesCreditCard', 'MonthlyCharges',\n",
       "       'TotalCharges'],\n",
       "      dtype='object')"
      ]
     },
     "execution_count": 221,
     "metadata": {},
     "output_type": "execute_result"
    }
   ],
   "source": [
    "# Check data\n",
    "churn_data.columns[1:-1]\n"
   ]
  },
  {
   "cell_type": "code",
   "execution_count": 222,
   "metadata": {},
   "outputs": [],
   "source": [
    "# Assign variables\n",
    "y = churn_data.YesChurn\n",
    "churn_features = churn_data.columns[1:-1]\n",
    "X = churn_data[churn_features]\n",
    "\n"
   ]
  },
  {
   "cell_type": "code",
   "execution_count": 223,
   "metadata": {},
   "outputs": [],
   "source": [
    "# Xy copy to protect original data\n",
    "X_copy = X.copy()\n",
    "X_copy = X_copy.fillna(X_copy.mean())\n",
    "y_copy = y.copy()\n"
   ]
  },
  {
   "cell_type": "code",
   "execution_count": 224,
   "metadata": {},
   "outputs": [
    {
     "name": "stdout",
     "output_type": "stream",
     "text": [
      "<class 'pandas.core.frame.DataFrame'>\n",
      "RangeIndex: 7043 entries, 0 to 7042\n",
      "Data columns (total 28 columns):\n",
      " #   Column               Non-Null Count  Dtype  \n",
      "---  ------               --------------  -----  \n",
      " 0   customerID           7043 non-null   object \n",
      " 1   OneMale              7043 non-null   float64\n",
      " 2   YesSenior            7043 non-null   float64\n",
      " 3   YesPartner           7043 non-null   float64\n",
      " 4   YesDependents        7043 non-null   float64\n",
      " 5   Tenure               7043 non-null   float64\n",
      " 6   YesPhoneService      7043 non-null   float64\n",
      " 7   YesInternetService   7043 non-null   float64\n",
      " 8   YesDSL               7043 non-null   float64\n",
      " 9   YesFiberOptic        7043 non-null   float64\n",
      " 10  YesMultiLines        7043 non-null   float64\n",
      " 11  YesOnlineSecurity    7043 non-null   float64\n",
      " 12  YesOnlineBackup      7043 non-null   float64\n",
      " 13  YesDeviceProtection  7043 non-null   float64\n",
      " 14  YesTechSupport       7043 non-null   float64\n",
      " 15  YesStreamingTV       7043 non-null   float64\n",
      " 16  YesStreamingMovies   7043 non-null   float64\n",
      " 17  ContractMonthly      7043 non-null   float64\n",
      " 18  ContractOneYear      7043 non-null   float64\n",
      " 19  ContractTwoYear      7043 non-null   float64\n",
      " 20  YesPaperlessBilling  7043 non-null   float64\n",
      " 21  YesElectronicCheck   7043 non-null   float64\n",
      " 22  YesMailedCheck       7043 non-null   float64\n",
      " 23  YesBankTransfer      7043 non-null   float64\n",
      " 24  YesCreditCard        7043 non-null   float64\n",
      " 25  MonthlyCharges       7043 non-null   float64\n",
      " 26  TotalCharges         7032 non-null   float64\n",
      " 27  YesChurn             7043 non-null   float64\n",
      "dtypes: float64(27), object(1)\n",
      "memory usage: 1.5+ MB\n"
     ]
    }
   ],
   "source": [
    "churn_data.info()\n"
   ]
  },
  {
   "cell_type": "code",
   "execution_count": null,
   "metadata": {},
   "outputs": [],
   "source": []
  },
  {
   "cell_type": "code",
   "execution_count": 225,
   "metadata": {},
   "outputs": [
    {
     "name": "stdout",
     "output_type": "stream",
     "text": [
      "YesOnlineSecurity   0.0   1.0\n",
      "YesChurn                     \n",
      "0.0                3450  1724\n",
      "1.0                1574   295\n",
      "2.166690861357232e-50\n"
     ]
    }
   ],
   "source": [
    "cross = pd.crosstab(y_copy, X_copy.YesOnlineSecurity)\n",
    "print(cross)\n",
    "\n",
    "oddsratio, pvalue = sta.fisher_exact(cross)\n",
    "print(pvalue)\n",
    "\n"
   ]
  },
  {
   "cell_type": "code",
   "execution_count": 226,
   "metadata": {},
   "outputs": [
    {
     "data": {
      "text/plain": [
       "DecisionTreeRegressor(ccp_alpha=0.0, criterion='mse', max_depth=None,\n",
       "                      max_features=None, max_leaf_nodes=500,\n",
       "                      min_impurity_decrease=0.0, min_impurity_split=None,\n",
       "                      min_samples_leaf=1, min_samples_split=2,\n",
       "                      min_weight_fraction_leaf=0.0, presort='deprecated',\n",
       "                      random_state=1, splitter='best')"
      ]
     },
     "execution_count": 226,
     "metadata": {},
     "output_type": "execute_result"
    }
   ],
   "source": [
    "# Fit model\n",
    "churn_model = DecisionTreeRegressor(max_leaf_nodes = 500, random_state=1)\n",
    "churn_model.fit(X_copy,y_copy)\n"
   ]
  },
  {
   "cell_type": "code",
   "execution_count": 227,
   "metadata": {},
   "outputs": [
    {
     "name": "stdout",
     "output_type": "stream",
     "text": [
      "churn predictions for head\n",
      "   OneMale  YesSenior  YesPartner  YesDependents  Tenure  YesPhoneService  \\\n",
      "0      0.0        0.0         1.0            0.0     1.0              0.0   \n",
      "1      1.0        0.0         0.0            0.0    34.0              1.0   \n",
      "2      1.0        0.0         0.0            0.0     2.0              1.0   \n",
      "3      1.0        0.0         0.0            0.0    45.0              0.0   \n",
      "4      0.0        0.0         0.0            0.0     2.0              1.0   \n",
      "\n",
      "   YesInternetService  YesDSL  YesFiberOptic  YesMultiLines  ...  \\\n",
      "0                 1.0     1.0            0.0            0.0  ...   \n",
      "1                 1.0     1.0            0.0            0.0  ...   \n",
      "2                 1.0     1.0            0.0            0.0  ...   \n",
      "3                 1.0     1.0            0.0            0.0  ...   \n",
      "4                 1.0     0.0            1.0            0.0  ...   \n",
      "\n",
      "   ContractMonthly  ContractOneYear  ContractTwoYear  YesPaperlessBilling  \\\n",
      "0              1.0              0.0              0.0                  1.0   \n",
      "1              0.0              1.0              0.0                  0.0   \n",
      "2              1.0              0.0              0.0                  1.0   \n",
      "3              0.0              1.0              0.0                  0.0   \n",
      "4              1.0              0.0              0.0                  1.0   \n",
      "\n",
      "   YesElectronicCheck  YesMailedCheck  YesBankTransfer  YesCreditCard  \\\n",
      "0                 1.0             0.0              0.0            0.0   \n",
      "1                 0.0             1.0              0.0            0.0   \n",
      "2                 0.0             1.0              0.0            0.0   \n",
      "3                 0.0             0.0              1.0            0.0   \n",
      "4                 1.0             0.0              0.0            0.0   \n",
      "\n",
      "   MonthlyCharges  TotalCharges  \n",
      "0           29.85         29.85  \n",
      "1           56.95       1889.50  \n",
      "2           53.85        108.15  \n",
      "3           42.30       1840.75  \n",
      "4           70.70        151.65  \n",
      "\n",
      "[5 rows x 26 columns]\n",
      "[0.         0.03384615 0.90909091 ... 0.07142857 0.82258065 0.0516129 ]\n"
     ]
    }
   ],
   "source": [
    "print(\"churn predictions for head\")\n",
    "print(X_copy.head())\n",
    "print(churn_model.predict(X_copy))\n"
   ]
  },
  {
   "cell_type": "code",
   "execution_count": 228,
   "metadata": {},
   "outputs": [
    {
     "data": {
      "text/plain": [
       "0.1324096370088838"
      ]
     },
     "execution_count": 228,
     "metadata": {},
     "output_type": "execute_result"
    }
   ],
   "source": [
    "predicted_churn = churn_model.predict(X_copy)\n",
    "mean_absolute_error(y, predicted_churn)"
   ]
  },
  {
   "cell_type": "code",
   "execution_count": 229,
   "metadata": {},
   "outputs": [
    {
     "name": "stdout",
     "output_type": "stream",
     "text": [
      "0.2665436698878454\n"
     ]
    }
   ],
   "source": [
    "train_X, val_X, train_y, val_y = train_test_split(X_copy, y_copy, random_state = 0)\n",
    "churn_model.fit(train_X, train_y)\n",
    "val_predictions = churn_model.predict(val_X)\n",
    "print(mean_absolute_error(val_y, val_predictions))"
   ]
  },
  {
   "cell_type": "code",
   "execution_count": 260,
   "metadata": {},
   "outputs": [
    {
     "name": "stdout",
     "output_type": "stream",
     "text": [
      "The accuracy score of the confusion matrix is:  0.7535491198182851\n",
      "[[1111  187]\n",
      " [ 247  216]]\n"
     ]
    },
    {
     "data": {
      "image/png": "[encoded data removed]",
      "text/plain": [
       "<Figure size 432x288 with 2 Axes>"
      ]
     },
     "metadata": {},
     "output_type": "display_data"
    }
   ],
   "source": [
    "train_X2, val_X2, train_y2, val_y2 = train_test_split(X_copy, y_copy, random_state = 0)\n",
    "confusion_model = DecisionTreeClassifier(max_leaf_nodes = 500, random_state=1)\n",
    "confusion_model.fit(train_X2, train_y2)\n",
    "confusion_preds = confusion_model.predict(val_X2)\n",
    "#classifier = svm.SVC(kernel='linear', C=0.01).fit(train_X2, train_y2)\n",
    "#conf_preds = []\n",
    "#for i in confusion_preds:\n",
    "  #  if i >= 0.5:\n",
    "   #     conf_preds.append(1)\n",
    "   # else:\n",
    "        #conf_preds.append(0)\n",
    "#print(confusion_matrix(val_y2, confusion_preds))\n",
    "print(\"The accuracy score of the confusion matrix is: \",accuracy_score(val_y2, confusion_preds))\n",
    "disp = plot_confusion_matrix(confusion_model, val_X2, val_y2)\n",
    "disp.ax_.set_title(\"Decision Tree Confusion Matrix Scoring\")\n",
    "print(disp.confusion_matrix)\n",
    "#print(conf_preds)"
   ]
  },
  {
   "cell_type": "code",
   "execution_count": 231,
   "metadata": {},
   "outputs": [
    {
     "name": "stdout",
     "output_type": "stream",
     "text": [
      "0.2832989383715324\n"
     ]
    }
   ],
   "source": [
    "def get_mae(max_leaf_nodes, train_X, val_X, train_y, val_y):\n",
    "    model = DecisionTreeRegressor(max_leaf_nodes=max_leaf_nodes, random_state=1)\n",
    "    model.fit(train_X, train_y)\n",
    "    preds_val = model.predict(val_X)\n",
    "    mae = mean_absolute_error(val_y, preds_val)\n",
    "    return(float(mae))\n",
    "\n",
    "temp = get_mae(10,  train_X, val_X, train_y, val_y)\n",
    "print(temp)"
   ]
  },
  {
   "cell_type": "code",
   "execution_count": 232,
   "metadata": {},
   "outputs": [
    {
     "name": "stdout",
     "output_type": "stream",
     "text": [
      "                  Results: Ordinary least squares\n",
      "===================================================================\n",
      "Model:               OLS              Adj. R-squared:     0.293    \n",
      "Dependent Variable:  YesChurn         AIC:                4558.1586\n",
      "Date:                2020-02-08 05:46 BIC:                4715.8880\n",
      "No. Observations:    5282             Log-Likelihood:     -2255.1  \n",
      "Df Model:            23               F-statistic:        96.11    \n",
      "Df Residuals:        5258             Prob (F-statistic): 0.00     \n",
      "R-squared:           0.296            Scale:              0.13815  \n",
      "-------------------------------------------------------------------\n",
      "                     Coef.  Std.Err.    t    P>|t|   [0.025  0.975]\n",
      "-------------------------------------------------------------------\n",
      "const                0.1204   0.0190  6.3411 0.0000  0.0832  0.1576\n",
      "OneMale             -0.0108   0.0102 -1.0529 0.2924 -0.0309  0.0093\n",
      "YesSenior            0.0502   0.0150  3.3489 0.0008  0.0208  0.0797\n",
      "YesPartner           0.0029   0.0124  0.2355 0.8139 -0.0213  0.0271\n",
      "YesDependents       -0.0253   0.0131 -1.9316 0.0535 -0.0510  0.0004\n",
      "Tenure              -0.0020   0.0006 -3.4659 0.0005 -0.0031 -0.0009\n",
      "YesPhoneService     -0.0887   0.1024 -0.8662 0.3864 -0.2895  0.1121\n",
      "YesInternetService   0.0771   0.1259  0.6125 0.5402 -0.1698  0.3240\n",
      "YesDSL              -0.0127   0.0096 -1.3174 0.1878 -0.0316  0.0062\n",
      "YesFiberOptic        0.0899   0.1255  0.7161 0.4740 -0.1561  0.3358\n",
      "YesMultiLines        0.0506   0.0280  1.8098 0.0704 -0.0042  0.1054\n",
      "YesOnlineSecurity   -0.0579   0.0285 -2.0287 0.0425 -0.1138 -0.0019\n",
      "YesOnlineBackup     -0.0471   0.0280 -1.6800 0.0930 -0.1021  0.0079\n",
      "YesDeviceProtection -0.0120   0.0283 -0.4244 0.6713 -0.0674  0.0434\n",
      "YesTechSupport      -0.0553   0.0286 -1.9323 0.0534 -0.1115  0.0008\n",
      "YesStreamingTV       0.0279   0.0516  0.5412 0.5884 -0.0732  0.1290\n",
      "YesStreamingMovies   0.0085   0.0515  0.1656 0.8685 -0.0925  0.1095\n",
      "ContractMonthly      0.1020   0.0110  9.2819 0.0000  0.0805  0.1236\n",
      "ContractOneYear     -0.0128   0.0110 -1.1585 0.2467 -0.0344  0.0088\n",
      "ContractTwoYear      0.0311   0.0134  2.3300 0.0198  0.0049  0.0573\n",
      "YesPaperlessBilling  0.0430   0.0115  3.7468 0.0002  0.0205  0.0655\n",
      "YesElectronicCheck   0.0903   0.0108  8.3526 0.0000  0.0691  0.1114\n",
      "YesMailedCheck       0.0124   0.0103  1.2029 0.2291 -0.0078  0.0326\n",
      "YesBankTransfer      0.0157   0.0112  1.4046 0.1602 -0.0062  0.0377\n",
      "YesCreditCard        0.0020   0.0111  0.1828 0.8549 -0.0197  0.0237\n",
      "MonthlyCharges       0.0030   0.0050  0.6076 0.5435 -0.0068  0.0129\n",
      "TotalCharges        -0.0000   0.0000 -6.2906 0.0000 -0.0001 -0.0000\n",
      "-------------------------------------------------------------------\n",
      "Omnibus:         243.302   Durbin-Watson:      2.012               \n",
      "Prob(Omnibus):   0.000     Jarque-Bera (JB):   263.190             \n",
      "Skew:            0.526     Prob(JB):           0.000               \n",
      "Kurtosis:        2.702     Condition No.:      14306189164494342144\n",
      "===================================================================\n",
      "* The condition number is large (1e+19). This might indicate\n",
      "strong multicollinearity or other numerical problems.\n"
     ]
    }
   ],
   "source": [
    "X3 = sm.add_constant(train_X)\n",
    "inf_stats = sm.OLS(train_y, X3)\n",
    "fii = inf_stats.fit()\n",
    "print(fii.summary2())\n"
   ]
  },
  {
   "cell_type": "code",
   "execution_count": 233,
   "metadata": {},
   "outputs": [
    {
     "name": "stdout",
     "output_type": "stream",
     "text": [
      "Optimization terminated successfully.\n",
      "         Current function value: 0.408102\n",
      "         Iterations 18\n",
      "                           Logit Regression Results                           \n",
      "==============================================================================\n",
      "Dep. Variable:               YesChurn   No. Observations:                 5282\n",
      "Model:                          Logit   Df Residuals:                     5258\n",
      "Method:                           MLE   Df Model:                           23\n",
      "Date:                Sat, 08 Feb 2020   Pseudo R-squ.:                  0.2957\n",
      "Time:                        05:46:34   Log-Likelihood:                -2155.6\n",
      "converged:                       True   LL-Null:                       -3060.5\n",
      "Covariance Type:            nonrobust   LLR p-value:                     0.000\n",
      "=======================================================================================\n",
      "                          coef    std err          z      P>|z|      [0.025      0.975]\n",
      "---------------------------------------------------------------------------------------\n",
      "const                  -1.6556   1.35e+06  -1.22e-06      1.000   -2.66e+06    2.66e+06\n",
      "OneMale                -0.0842      0.075     -1.115      0.265      -0.232       0.064\n",
      "YesSenior               0.2647      0.099      2.665      0.008       0.070       0.459\n",
      "YesPartner              0.0262      0.091      0.289      0.773      -0.152       0.204\n",
      "YesDependents          -0.1934      0.105     -1.846      0.065      -0.399       0.012\n",
      "Tenure                 -0.0590      0.007     -8.365      0.000      -0.073      -0.045\n",
      "YesPhoneService        -0.5039      0.757     -0.665      0.506      -1.989       0.981\n",
      "YesInternetService      2.0809    9.1e+05   2.29e-06      1.000   -1.78e+06    1.78e+06\n",
      "YesDSL                 -1.2049   9.11e+05  -1.32e-06      1.000   -1.78e+06    1.78e+06\n",
      "YesFiberOptic          -0.2791   9.11e+05  -3.06e-07      1.000   -1.79e+06    1.79e+06\n",
      "YesMultiLines           0.3884      0.205      1.895      0.058      -0.013       0.790\n",
      "YesOnlineSecurity      -0.3508      0.208     -1.684      0.092      -0.759       0.058\n",
      "YesOnlineBackup        -0.2292      0.204     -1.123      0.261      -0.629       0.171\n",
      "YesDeviceProtection     0.0150      0.205      0.073      0.942      -0.387       0.417\n",
      "YesTechSupport         -0.2941      0.210     -1.397      0.162      -0.707       0.118\n",
      "YesStreamingTV          0.3154      0.380      0.830      0.407      -0.429       1.060\n",
      "YesStreamingMovies      0.1903      0.380      0.501      0.616      -0.554       0.934\n",
      "ContractMonthly         1.3401        nan        nan        nan         nan         nan\n",
      "ContractOneYear         0.5748        nan        nan        nan         nan         nan\n",
      "ContractTwoYear        -0.0630        nan        nan        nan         nan         nan\n",
      "YesPaperlessBilling     0.3402      0.087      3.909      0.000       0.170       0.511\n",
      "YesElectronicCheck      0.1060        nan        nan        nan         nan         nan\n",
      "YesMailedCheck         -0.2614        nan        nan        nan         nan         nan\n",
      "YesBankTransfer        -0.2367        nan        nan        nan         nan         nan\n",
      "YesCreditCard          -0.3866        nan        nan        nan         nan         nan\n",
      "MonthlyCharges         -0.0068      0.037     -0.184      0.854      -0.079       0.066\n",
      "TotalCharges            0.0003   8.07e-05      3.655      0.000       0.000       0.000\n",
      "=======================================================================================\n",
      "                                  Results: Logit\n",
      "==================================================================================\n",
      "Model:                    Logit                  Pseudo R-squared:       0.296    \n",
      "Dependent Variable:       YesChurn               AIC:                    4359.1891\n",
      "Date:                     2020-02-08 05:46       BIC:                    4516.9186\n",
      "No. Observations:         5282                   Log-Likelihood:         -2155.6  \n",
      "Df Model:                 23                     LL-Null:                -3060.5  \n",
      "Df Residuals:             5258                   LLR p-value:            0.0000   \n",
      "Converged:                1.0000                 Scale:                  1.0000   \n",
      "No. Iterations:           18.0000                                                 \n",
      "----------------------------------------------------------------------------------\n",
      "                     Coef.    Std.Err.      z    P>|z|      [0.025       0.975]   \n",
      "----------------------------------------------------------------------------------\n",
      "const               -1.6556 1354751.5246 -0.0000 1.0000 -2655265.8519 2655262.5407\n",
      "OneMale             -0.0842       0.0755 -1.1155 0.2646       -0.2321       0.0637\n",
      "YesSenior            0.2647       0.0993  2.6647 0.0077        0.0700       0.4594\n",
      "YesPartner           0.0262       0.0909  0.2889 0.7727       -0.1518       0.2043\n",
      "YesDependents       -0.1934       0.1047 -1.8461 0.0649       -0.3987       0.0119\n",
      "Tenure              -0.0590       0.0071 -8.3645 0.0000       -0.0728      -0.0452\n",
      "YesPhoneService     -0.5039       0.7575 -0.6652 0.5059       -1.9885       0.9807\n",
      "YesInternetService   2.0809  910497.0452  0.0000 1.0000 -1784539.3357 1784543.4976\n",
      "YesDSL              -1.2049  910585.4670 -0.0000 1.0000 -1784715.9251 1784713.5152\n",
      "YesFiberOptic       -0.2791  911094.1230 -0.0000 1.0000 -1785711.9467 1785711.3885\n",
      "YesMultiLines        0.3884       0.2050  1.8949 0.0581       -0.0133       0.7902\n",
      "YesOnlineSecurity   -0.3508       0.2084 -1.6837 0.0922       -0.7592       0.0576\n",
      "YesOnlineBackup     -0.2292       0.2041 -1.1231 0.2614       -0.6293       0.1708\n",
      "YesDeviceProtection  0.0150       0.2050  0.0730 0.9418       -0.3869       0.4168\n",
      "YesTechSupport      -0.2941       0.2105 -1.3971 0.1624       -0.7066       0.1185\n",
      "YesStreamingTV       0.3154       0.3800  0.8300 0.4065       -0.4293       1.0601\n",
      "YesStreamingMovies   0.1903       0.3796  0.5012 0.6162       -0.5537       0.9343\n",
      "ContractMonthly      1.3401          nan     nan    nan           nan          nan\n",
      "ContractOneYear      0.5748          nan     nan    nan           nan          nan\n",
      "ContractTwoYear     -0.0630          nan     nan    nan           nan          nan\n",
      "YesPaperlessBilling  0.3402       0.0870  3.9094 0.0001        0.1696       0.5107\n",
      "YesElectronicCheck   0.1060          nan     nan    nan           nan          nan\n",
      "YesMailedCheck      -0.2614          nan     nan    nan           nan          nan\n",
      "YesBankTransfer     -0.2367          nan     nan    nan           nan          nan\n",
      "YesCreditCard       -0.3866          nan     nan    nan           nan          nan\n",
      "MonthlyCharges      -0.0068       0.0370 -0.1836 0.8543       -0.0793       0.0657\n",
      "TotalCharges         0.0003       0.0001  3.6551 0.0003        0.0001       0.0005\n",
      "==================================================================================\n",
      "\n",
      "[ 1.83535169e+12  5.69630698e-03  9.86720392e-03  8.25440576e-03\n",
      "  1.09722331e-02  4.97323104e-05  5.73776488e-01  8.29004869e+11\n",
      "  8.29165893e+11  8.30092501e+11  4.20202372e-02  4.34142535e-02\n",
      "  4.16581151e-02  4.20340831e-02  4.43043199e-02  1.44369499e-01\n",
      "  1.44101499e-01 -3.52568933e+11 -3.52746634e+11 -3.51813304e+11\n",
      "  7.57138159e-03 -1.87704240e+12 -1.87704240e+12 -1.87704240e+12\n",
      " -1.87704240e+12  1.36878803e-03  6.51780522e-09]\n"
     ]
    },
    {
     "name": "stderr",
     "output_type": "stream",
     "text": [
      "C:\\Users\\Chad\\Anaconda3\\lib\\site-packages\\statsmodels\\base\\model.py:1354: RuntimeWarning: invalid value encountered in sqrt\n",
      "  bse_ = np.sqrt(np.diag(self.cov_params()))\n",
      "C:\\Users\\Chad\\Anaconda3\\lib\\site-packages\\scipy\\stats\\_distn_infrastructure.py:901: RuntimeWarning: invalid value encountered in greater\n",
      "  return (a < x) & (x < b)\n",
      "C:\\Users\\Chad\\Anaconda3\\lib\\site-packages\\scipy\\stats\\_distn_infrastructure.py:901: RuntimeWarning: invalid value encountered in less\n",
      "  return (a < x) & (x < b)\n",
      "C:\\Users\\Chad\\Anaconda3\\lib\\site-packages\\scipy\\stats\\_distn_infrastructure.py:1892: RuntimeWarning: invalid value encountered in less_equal\n",
      "  cond2 = cond0 & (x <= _a)\n"
     ]
    }
   ],
   "source": [
    "#hypothesis testing\n",
    "\n",
    "#logit_model=sm.Logit(train_y, train_X)\n",
    "#result=logit_model.fit(method='nm', maxfun=12000, maxiter=10000)\n",
    "X2 = sm.add_constant(train_X)\n",
    "est = sm.Logit(train_y, X2)\n",
    "est2 = est.fit()\n",
    "print(est2.summary())\n",
    "print(est2.summary2())\n",
    "print(np.diag(est2.cov_params()))\n",
    "\n",
    "#print(mean_absolute_error(val_y, result.predict(val_X)))\n",
    "#print(result.summary())\n"
   ]
  },
  {
   "cell_type": "code",
   "execution_count": null,
   "metadata": {},
   "outputs": [],
   "source": []
  },
  {
   "cell_type": "code",
   "execution_count": 234,
   "metadata": {},
   "outputs": [
    {
     "name": "stdout",
     "output_type": "stream",
     "text": [
      "Max leaf nodes: 5  \t\t Mean Absolute Error:  0.291972\n",
      "Max leaf nodes: 50  \t\t Mean Absolute Error:  0.272549\n",
      "Max leaf nodes: 500  \t\t Mean Absolute Error:  0.266544\n",
      "Max leaf nodes: 5000  \t\t Mean Absolute Error:  0.271247\n"
     ]
    }
   ],
   "source": [
    "for max_leaf_nodes in [5, 50, 500, 5000]:\n",
    "    my_mae = get_mae(max_leaf_nodes, train_X, val_X, train_y, val_y)\n",
    "    print(\"Max leaf nodes: %d  \\t\\t Mean Absolute Error:  %f\" %(max_leaf_nodes, my_mae))"
   ]
  },
  {
   "cell_type": "code",
   "execution_count": 235,
   "metadata": {},
   "outputs": [
    {
     "name": "stdout",
     "output_type": "stream",
     "text": [
      "0.2734095729338489\n"
     ]
    }
   ],
   "source": [
    "forest_model = RandomForestRegressor(random_state=2)\n",
    "forest_model.fit(train_X, train_y)\n",
    "churn_preds = forest_model.predict(val_X)\n",
    "print(mean_absolute_error(val_y, churn_preds))\n",
    "#print(\"The score for the confusion matrix is: \" + str(confusion_matrix(train_y, val_y)))\n",
    "#Random forest model"
   ]
  },
  {
   "cell_type": "code",
   "execution_count": 236,
   "metadata": {},
   "outputs": [
    {
     "data": {
      "text/plain": [
       "3296    0.0\n",
       "6397    0.0\n",
       "6043    1.0\n",
       "5309    0.0\n",
       "3000    1.0\n",
       "       ... \n",
       "4931    0.0\n",
       "3264    0.0\n",
       "1653    0.0\n",
       "2607    1.0\n",
       "2732    0.0\n",
       "Name: YesChurn, Length: 5282, dtype: float64"
      ]
     },
     "execution_count": 236,
     "metadata": {},
     "output_type": "execute_result"
    }
   ],
   "source": [
    "train_y"
   ]
  },
  {
   "cell_type": "code",
   "execution_count": 237,
   "metadata": {},
   "outputs": [
    {
     "data": {
      "text/plain": [
       "<matplotlib.axes._subplots.AxesSubplot at 0x2d62f8ff488>"
      ]
     },
     "execution_count": 237,
     "metadata": {},
     "output_type": "execute_result"
    },
    {
     "data": {
      "image/png": "[encoded data removed]",
      "text/plain": [
       "<Figure size 432x288 with 1 Axes>"
      ]
     },
     "metadata": {},
     "output_type": "display_data"
    }
   ],
   "source": [
    "#churn_model.feature_importances_\n",
    "feat_importances = pd.Series(churn_model.feature_importances_, index=train_X.columns)\n",
    "feat_importances.nlargest(26).plot(kind='barh')\n"
   ]
  },
  {
   "cell_type": "code",
   "execution_count": 238,
   "metadata": {},
   "outputs": [
    {
     "name": "stdout",
     "output_type": "stream",
     "text": [
      "Num Features: 1\n",
      "Selected Features: [False False False False False False False False  True False False False\n",
      " False False False False False False False False False False False False\n",
      " False False]\n",
      "Feature Ranking: [18 16 24 15 22 17  3  2  1 19  9 10 14 11 13 21  8 20 23 12  7  6  5  4\n",
      " 25 26]\n",
      "Y intercept is: 0.19064096729866115\n",
      "18 OneMale -0.010784380629809237\n",
      "16 YesSenior 0.05024936442198137\n",
      "24 YesPartner 0.0029105952112179843\n",
      "15 YesDependents -0.0253286471120352\n",
      "22 Tenure -0.0019646945565880407\n",
      "17 YesPhoneService -0.08872032956364476\n",
      "3 YesInternetService 0.07713949741088051\n",
      "2 YesDSL -0.012712334650341522\n",
      "1 YesFiberOptic 0.08985183206122202\n",
      "19 YesMultiLines 0.050590312627393816\n",
      "9 YesOnlineSecurity -0.057876411887455376\n",
      "10 YesOnlineBackup -0.04712367012138008\n",
      "14 YesDeviceProtection -0.012002159144514182\n",
      "11 YesTechSupport -0.05532443858785601\n",
      "13 YesStreamingTV 0.027908339494500438\n",
      "21 YesStreamingMovies 0.00853165933675506\n",
      "8 ContractMonthly 0.06189993015216697\n",
      "20 ContractOneYear -0.052908414240241\n",
      "23 ContractTwoYear -0.008991515911925867\n",
      "12 YesPaperlessBilling 0.04301591560554637\n",
      "7 YesElectronicCheck 0.0601541741113008\n",
      "6 YesMailedCheck -0.017696670780630346\n",
      "5 YesBankTransfer -0.014381822470819525\n",
      "4 YesCreditCard -0.02807568085985088\n",
      "25 MonthlyCharges 0.003044042097633545\n",
      "26 TotalCharges -4.642407730699738e-05\n"
     ]
    }
   ],
   "source": [
    "lin_model = LinearRegression()\n",
    "lin_rfe = RFE(lin_model, 1)\n",
    "lin_fit = lin_rfe.fit(train_X, train_y)\n",
    "lin_model.fit(train_X, train_y)\n",
    "print(\"Num Features: %d\" % lin_fit.n_features_)\n",
    "print(\"Selected Features: %s\" % lin_fit.support_)\n",
    "print(\"Feature Ranking: %s\" % lin_fit.ranking_)\n",
    "print(\"Y intercept is: \" + str(lin_model.intercept_))\n",
    "#print(\"coefs are: \" + str(lin_model.coef_))\n",
    "num = 1\n",
    "for i in train_X.columns:\n",
    "    print(str(lin_fit.ranking_[num - 1]) + \" \" + str(i) + \" \" + str(lin_model.coef_[num - 1]))\n",
    "    num= num + 1"
   ]
  },
  {
   "cell_type": "code",
   "execution_count": 239,
   "metadata": {},
   "outputs": [
    {
     "name": "stdout",
     "output_type": "stream",
     "text": [
      "Num Features: 1\n",
      "Selected Features: [False False False False False False False False False False False False\n",
      " False False False False  True False False False False False False False\n",
      " False False]\n",
      "Feature Ranking: [17 16 24 14 22 12  5 19  3 18  6  9 23 10 15 20  1  4  2 11 21 13  8  7\n",
      " 25 26]\n",
      "Y intercept is: [-0.61125896]\n",
      "17 OneMale -0.11918224967113687\n",
      "16 YesSenior 0.3071392699219633\n",
      "24 YesPartner 0.07529462845735087\n",
      "14 YesDependents -0.2449979069136769\n",
      "22 Tenure -0.06089983440200544\n",
      "12 YesPhoneService -0.9484688867971423\n",
      "5 YesInternetService 0.40396214920356244\n",
      "19 YesDSL -0.04732026169280548\n",
      "3 YesFiberOptic 0.4512824108914916\n",
      "18 YesMultiLines 0.33139050505124185\n",
      "6 YesOnlineSecurity -0.4500392636528378\n",
      "9 YesOnlineBackup -0.31793277638217\n",
      "23 YesDeviceProtection -0.0553406181452654\n",
      "10 YesTechSupport -0.41759712268363297\n",
      "15 YesStreamingTV 0.19422907489182342\n",
      "20 YesStreamingMovies 0.05645319247566362\n",
      "1 ContractMonthly 0.42853892079999933\n",
      "4 ContractOneYear -0.36335722565796524\n",
      "2 ContractTwoYear -0.6764406507343045\n",
      "11 YesPaperlessBilling 0.3546272446846744\n",
      "21 YesElectronicCheck 0.10182478227031201\n",
      "13 YesMailedCheck -0.2717024292524145\n",
      "8 YesBankTransfer -0.1317595153422171\n",
      "7 YesCreditCard -0.30962179334998785\n",
      "25 MonthlyCharges 0.010589698155174295\n",
      "26 TotalCharges 0.00028361218966302474\n"
     ]
    }
   ],
   "source": [
    "log_model = LogisticRegression(max_iter = 1000, C=1e9)\n",
    "log_rfe = RFE(log_model,1)\n",
    "log_fit = log_rfe.fit(train_X, train_y)\n",
    "log_model.fit(train_X, train_y)\n",
    "print(\"Num Features: %d\" % log_fit.n_features_)\n",
    "print(\"Selected Features: %s\" % log_fit.support_)\n",
    "print(\"Feature Ranking: %s\" % log_fit.ranking_)\n",
    "print(\"Y intercept is: \" + str(log_model.intercept_))\n",
    "#print(\"coef is: \" + str(log_model.coef_[0,2]))\n",
    "#print(\"coefs are: \" + str(lin_model.coef_))\n",
    "num = 1\n",
    "for i in train_X.columns:\n",
    "    print(str(log_fit.ranking_[num - 1]) + \" \" + str(i) + \" \" + str(log_model.coef_[0, num - 1]))\n",
    "    num= num + 1\n",
    "# most important logistc features = contractmonthly, contracttwoyear, yesfiberoptic, yesinternetservice\n"
   ]
  },
  {
   "cell_type": "code",
   "execution_count": 240,
   "metadata": {},
   "outputs": [
    {
     "ename": "AttributeError",
     "evalue": "'LogisticRegression' object has no attribute 'summary2'",
     "output_type": "error",
     "traceback": [
      "\u001b[1;31m---------------------------------------------------------------------------\u001b[0m",
      "\u001b[1;31mAttributeError\u001b[0m                            Traceback (most recent call last)",
      "\u001b[1;32m<ipython-input-240-83f341f7053f>\u001b[0m in \u001b[0;36m<module>\u001b[1;34m\u001b[0m\n\u001b[1;32m----> 1\u001b[1;33m \u001b[0mlog_model\u001b[0m\u001b[1;33m.\u001b[0m\u001b[0msummary2\u001b[0m\u001b[1;33m(\u001b[0m\u001b[1;33m)\u001b[0m\u001b[1;33m\u001b[0m\u001b[1;33m\u001b[0m\u001b[0m\n\u001b[0m",
      "\u001b[1;31mAttributeError\u001b[0m: 'LogisticRegression' object has no attribute 'summary2'"
     ]
    }
   ],
   "source": [
    "log_model.summary2()"
   ]
  },
  {
   "cell_type": "code",
   "execution_count": 241,
   "metadata": {},
   "outputs": [
    {
     "data": {
      "image/png": "[encoded data removed]",
      "text/plain": [
       "<Figure size 432x288 with 1 Axes>"
      ]
     },
     "metadata": {},
     "output_type": "display_data"
    }
   ],
   "source": [
    "logistic_vars = ['ContractMonthly', 'ContractTwoYear', 'YesFiberOptic', 'YesInternetService', 'YesOnlineSecurity']\n",
    "\n",
    "plota = sns.regplot(x=\"ContractMonthly\" , y=\"YesChurn\", data = churn_data)\n"
   ]
  },
  {
   "cell_type": "code",
   "execution_count": 242,
   "metadata": {},
   "outputs": [
    {
     "data": {
      "image/png": "[encoded data removed]",
      "text/plain": [
       "<Figure size 432x288 with 1 Axes>"
      ]
     },
     "metadata": {},
     "output_type": "display_data"
    }
   ],
   "source": [
    "plotb = sns.regplot(x=\"ContractTwoYear\" , y=\"YesChurn\", data = churn_data)\n"
   ]
  },
  {
   "cell_type": "code",
   "execution_count": 243,
   "metadata": {},
   "outputs": [
    {
     "data": {
      "image/png": "[encoded data removed]",
      "text/plain": [
       "<Figure size 432x288 with 1 Axes>"
      ]
     },
     "metadata": {},
     "output_type": "display_data"
    }
   ],
   "source": [
    "plotc = sns.regplot(x=\"YesFiberOptic\" , y=\"YesChurn\", data = churn_data)\n"
   ]
  },
  {
   "cell_type": "code",
   "execution_count": 244,
   "metadata": {},
   "outputs": [
    {
     "data": {
      "image/png": "[encoded data removed]",
      "text/plain": [
       "<Figure size 432x288 with 1 Axes>"
      ]
     },
     "metadata": {},
     "output_type": "display_data"
    }
   ],
   "source": [
    "plotd = sns.regplot(x=\"YesInternetService\" , y=\"YesChurn\", data = churn_data)\n"
   ]
  },
  {
   "cell_type": "code",
   "execution_count": 245,
   "metadata": {},
   "outputs": [
    {
     "data": {
      "image/png": "[encoded data removed]",
      "text/plain": [
       "<Figure size 432x288 with 1 Axes>"
      ]
     },
     "metadata": {},
     "output_type": "display_data"
    }
   ],
   "source": [
    "plote = sns.regplot(x=\"YesOnlineSecurity\" , y=\"YesChurn\", data = churn_data)\n"
   ]
  },
  {
   "cell_type": "code",
   "execution_count": 246,
   "metadata": {},
   "outputs": [
    {
     "data": {
      "image/png": "[encoded data removed]",
      "text/plain": [
       "<Figure size 432x288 with 1 Axes>"
      ]
     },
     "metadata": {},
     "output_type": "display_data"
    }
   ],
   "source": [
    "plotf = sns.regplot(x=\"YesElectronicCheck\" , y=\"YesChurn\", data = churn_data)\n"
   ]
  },
  {
   "cell_type": "code",
   "execution_count": 247,
   "metadata": {},
   "outputs": [
    {
     "data": {
      "image/png": "[encoded data removed]",
      "text/plain": [
       "<Figure size 432x288 with 1 Axes>"
      ]
     },
     "metadata": {},
     "output_type": "display_data"
    }
   ],
   "source": [
    "plotg = sns.regplot(x=\"Tenure\" , y=\"YesChurn\", data = churn_data)\n"
   ]
  },
  {
   "cell_type": "code",
   "execution_count": 248,
   "metadata": {},
   "outputs": [
    {
     "data": {
      "image/png": "[encoded data removed]",
      "text/plain": [
       "<Figure size 432x288 with 1 Axes>"
      ]
     },
     "metadata": {},
     "output_type": "display_data"
    }
   ],
   "source": [
    "ploth = sns.regplot(x=\"TotalCharges\" , y=\"YesChurn\", data = churn_data)"
   ]
  },
  {
   "cell_type": "code",
   "execution_count": 249,
   "metadata": {},
   "outputs": [
    {
     "name": "stdout",
     "output_type": "stream",
     "text": [
      "0.3013445875115026\n",
      "0.2015900056785917\n"
     ]
    }
   ],
   "source": [
    "lin_val_predictions = lin_model.predict(val_X)\n",
    "print(mean_absolute_error(val_y, lin_val_predictions))\n",
    "log_val_predictions = log_model.predict(val_X)\n",
    "print(mean_absolute_error(val_y, log_val_predictions))"
   ]
  },
  {
   "cell_type": "code",
   "execution_count": 250,
   "metadata": {},
   "outputs": [
    {
     "name": "stdout",
     "output_type": "stream",
     "text": [
      "-0.04023634965905365\n"
     ]
    }
   ],
   "source": [
    "print(r2_score(val_y, log_val_predictions))"
   ]
  },
  {
   "cell_type": "code",
   "execution_count": null,
   "metadata": {},
   "outputs": [],
   "source": []
  },
  {
   "cell_type": "code",
   "execution_count": null,
   "metadata": {},
   "outputs": [],
   "source": []
  },
  {
   "cell_type": "code",
   "execution_count": null,
   "metadata": {},
   "outputs": [],
   "source": []
  },
  {
   "cell_type": "code",
   "execution_count": null,
   "metadata": {},
   "outputs": [],
   "source": []
  },
  {
   "cell_type": "code",
   "execution_count": null,
   "metadata": {},
   "outputs": [],
   "source": []
  }
 ],
 "metadata": {
  "kernelspec": {
   "display_name": "Python 3",
   "language": "python",
   "name": "python3"
  },
  "language_info": {
   "codemirror_mode": {
    "name": "ipython",
    "version": 3
   },
   "file_extension": ".py",
   "mimetype": "text/x-python",
   "name": "python",
   "nbconvert_exporter": "python",
   "pygments_lexer": "ipython3",
   "version": "3.7.6"
  }
 },
 "nbformat": 4,
 "nbformat_minor": 4
}
